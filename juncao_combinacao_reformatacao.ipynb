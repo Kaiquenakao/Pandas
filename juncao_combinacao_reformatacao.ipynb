{
 "cells": [
  {
   "cell_type": "code",
   "execution_count": 1,
   "id": "5c21bac0",
   "metadata": {},
   "outputs": [],
   "source": [
    "import numpy as np\n",
    "import pandas as pd"
   ]
  },
  {
   "cell_type": "code",
   "execution_count": 3,
   "id": "ed9c2318",
   "metadata": {},
   "outputs": [],
   "source": [
    "# Indexação hierárquica"
   ]
  },
  {
   "cell_type": "code",
   "execution_count": 4,
   "id": "251d2f6e",
   "metadata": {},
   "outputs": [
    {
     "data": {
      "text/plain": [
       "a  1    0.406353\n",
       "   2    1.494140\n",
       "   3    0.538758\n",
       "b  1    0.619738\n",
       "   3    0.459273\n",
       "c  1   -0.169185\n",
       "   2    0.152932\n",
       "d  2    0.680147\n",
       "   3   -0.959573\n",
       "dtype: float64"
      ]
     },
     "execution_count": 4,
     "metadata": {},
     "output_type": "execute_result"
    }
   ],
   "source": [
    "data = pd.Series(np.random.randn(9),\n",
    "                index=[['a', 'a', 'a', 'b', 'b', 'c', 'c', 'd', 'd'],\n",
    "                      [1, 2, 3, 1, 3, 1, 2, 2, 3]])\n",
    "data"
   ]
  },
  {
   "cell_type": "code",
   "execution_count": 5,
   "id": "e413aaa8",
   "metadata": {},
   "outputs": [
    {
     "data": {
      "text/plain": [
       "MultiIndex([('a', 1),\n",
       "            ('a', 2),\n",
       "            ('a', 3),\n",
       "            ('b', 1),\n",
       "            ('b', 3),\n",
       "            ('c', 1),\n",
       "            ('c', 2),\n",
       "            ('d', 2),\n",
       "            ('d', 3)],\n",
       "           )"
      ]
     },
     "execution_count": 5,
     "metadata": {},
     "output_type": "execute_result"
    }
   ],
   "source": [
    "data.index"
   ]
  },
  {
   "cell_type": "code",
   "execution_count": 6,
   "id": "7fc93e50",
   "metadata": {},
   "outputs": [
    {
     "data": {
      "text/plain": [
       "1    0.619738\n",
       "3    0.459273\n",
       "dtype: float64"
      ]
     },
     "execution_count": 6,
     "metadata": {},
     "output_type": "execute_result"
    }
   ],
   "source": [
    "data['b']"
   ]
  },
  {
   "cell_type": "code",
   "execution_count": 7,
   "id": "25ec9608",
   "metadata": {},
   "outputs": [
    {
     "data": {
      "text/plain": [
       "b  1    0.619738\n",
       "   3    0.459273\n",
       "c  1   -0.169185\n",
       "   2    0.152932\n",
       "dtype: float64"
      ]
     },
     "execution_count": 7,
     "metadata": {},
     "output_type": "execute_result"
    }
   ],
   "source": [
    "data['b':'c']"
   ]
  },
  {
   "cell_type": "code",
   "execution_count": null,
   "id": "c3782b1a",
   "metadata": {},
   "outputs": [],
   "source": [
    "# Join"
   ]
  }
 ],
 "metadata": {
  "kernelspec": {
   "display_name": "Python 3",
   "language": "python",
   "name": "python3"
  },
  "language_info": {
   "codemirror_mode": {
    "name": "ipython",
    "version": 3
   },
   "file_extension": ".py",
   "mimetype": "text/x-python",
   "name": "python",
   "nbconvert_exporter": "python",
   "pygments_lexer": "ipython3",
   "version": "3.9.4"
  }
 },
 "nbformat": 4,
 "nbformat_minor": 5
}
